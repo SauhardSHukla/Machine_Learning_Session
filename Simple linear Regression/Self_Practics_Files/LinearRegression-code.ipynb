{
 "cells": [
  {
   "cell_type": "code",
   "execution_count": 38,
   "metadata": {
    "collapsed": true
   },
   "outputs": [],
   "source": [
    "import numpy as np"
   ]
  },
  {
   "cell_type": "code",
   "execution_count": 39,
   "metadata": {
    "collapsed": true
   },
   "outputs": [],
   "source": [
    "data = np.loadtxt(\"data.csv\", delimiter=\",\")"
   ]
  },
  {
   "cell_type": "code",
   "execution_count": 40,
   "metadata": {
    "collapsed": true
   },
   "outputs": [],
   "source": [
    "x = data[:, 0]\n",
    "y = data[:, 1]"
   ]
  },
  {
   "cell_type": "code",
   "execution_count": 41,
   "metadata": {},
   "outputs": [
    {
     "data": {
      "text/plain": [
       "(100,)"
      ]
     },
     "execution_count": 41,
     "metadata": {},
     "output_type": "execute_result"
    }
   ],
   "source": [
    "x.shape"
   ]
  },
  {
   "cell_type": "code",
   "execution_count": 42,
   "metadata": {},
   "outputs": [
    {
     "data": {
      "text/plain": [
       "(70,)"
      ]
     },
     "execution_count": 42,
     "metadata": {},
     "output_type": "execute_result"
    }
   ],
   "source": [
    "from sklearn import model_selection\n",
    "X_train, X_test, Y_train, Y_test = model_selection.train_test_split(x, y, test_size=0.3)\n",
    "X_train.shape"
   ]
  },
  {
   "cell_type": "code",
   "execution_count": null,
   "metadata": {},
   "outputs": [],
   "source": [
    "# Creation of the Custom Function for the better understandings and more readability \n",
    "# of the code\n",
    "\n",
    "def summ(values):\n",
    "    total = 0\n",
    "    for val in values:\n",
    "        total += val\n",
    "    return total\n",
    "\n",
    "def mean(values):\n",
    "    return sum(values) / len(values)\n"
   ]
  },
  {
   "cell_type": "code",
   "execution_count": 44,
   "metadata": {
    "collapsed": true
   },
   "outputs": [],
   "source": [
    "def fit(x_train, y_train):\n",
    "    num = mean(x_train * y_train) - mean(x_train) * mean(y_train)\n",
    "    den = mean(x_train ** 2) - mean(x_train) ** 2\n",
    "    m = num / den\n",
    "    c = mean(y_train) - m * mean(x_train)\n",
    "    return m, c"
   ]
  },
  {
   "cell_type": "code",
   "execution_count": 47,
   "metadata": {
    "collapsed": true
   },
   "outputs": [],
   "source": [
    "def predict(x, m, c):\n",
    "    return m * x + c\n",
    "\n",
    "def score(y_truth, y_pred):\n",
    "    u = summ((y_truth - y_pred)**2)\n",
    "    v = summ((y_truth - mean(y_truth))**2)\n",
    "    return 1 - u/v\n",
    "\n",
    "def cost (x, y, m , c):\n",
    "    return mean((y - m * x - c)**2)"
   ]
  },
  {
   "cell_type": "code",
   "execution_count": 48,
   "metadata": {},
   "outputs": [
    {
     "name": "stdout",
     "output_type": "stream",
     "text": [
      "Test Score:  0.5010144300444486\n",
      "Train Score:  0.6363622817703101\n",
      "M : 1.3319564645319721 C : 7.246828496715679\n",
      "Cost on training data  96.83032367121923\n"
     ]
    }
   ],
   "source": [
    "m, c = fit(X_train, Y_train)\n",
    "\n",
    "# test data\n",
    "y_test_pred = predict(X_test, m, c)\n",
    "print(\"Test Score: \",score(Y_test, y_test_pred))\n",
    "\n",
    "#train data\n",
    "y_train_pred = predict(X_train, m, c)\n",
    "print(\"Train Score: \", score(Y_train, y_train_pred))\n",
    "print(\"M :\", m ,\"C :\", c)\n",
    "print(\"Cost on training data \", cost(X_train,Y_train, m, c ))"
   ]
  }
 ],
 "metadata": {
  "kernelspec": {
   "display_name": "Python 3",
   "language": "python",
   "name": "python3"
  },
  "language_info": {
   "codemirror_mode": {
    "name": "ipython",
    "version": 3
   },
   "file_extension": ".py",
   "mimetype": "text/x-python",
   "name": "python",
   "nbconvert_exporter": "python",
   "pygments_lexer": "ipython3",
   "version": "3.12.3"
  }
 },
 "nbformat": 4,
 "nbformat_minor": 2
}
