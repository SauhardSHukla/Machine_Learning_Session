{
 "cells": [
  {
   "cell_type": "markdown",
   "id": "a4fa034b",
   "metadata": {},
   "source": [
    "#### Here we will see the range of the value of R Square \n"
   ]
  },
  {
   "cell_type": "code",
   "execution_count": null,
   "id": "d8428fb4",
   "metadata": {},
   "outputs": [
    {
     "name": "stdout",
     "output_type": "stream",
     "text": [
      "Poor Prediction value: 1.0\n",
      "Good Prediction value: 0.94\n",
      "Poor Prediction value: -13.5\n"
     ]
    }
   ],
   "source": [
    "import numpy as np\n",
    "import matplotlib.pyplot as plt\n",
    "from sklearn.linear_model import LinearRegression\n",
    "from sklearn.metrics import r2_score\n",
    "\n",
    "model = LinearRegression()\n",
    "\n",
    "#Perfect Fit:-\n",
    "x_perfect= np.array([1,2,3,4,5]).reshape(-1,1)\n",
    "y_perfect = np.array([2,4,6,8,10])\n",
    "\n",
    "model.fit(x_perfect,y_perfect)\n",
    "y_pre_perfect = model.predict(x_perfect)\n",
    "r2_perfect = r2_score(y_perfect,y_pre_perfect)\n",
    "print(\"❤️ Perfect Prediction value:\",(round(r2_perfect,2)))\n",
    "\n",
    "#Good Fit :-\n",
    "x_good= np.array([1,2,3,4,5]).reshape(-1,1)\n",
    "y_good = np.array([1.2,2.3,3.9,4.1,4.9])\n",
    "\n",
    "model.fit(x_good,y_good)\n",
    "y_pre_perfect = model.predict(x_good)\n",
    "r2_good = r2_score(y_good,y_pre_perfect)\n",
    "print(\"👍 Good Prediction value:\",(round(r2_good,2)))\n",
    "\n",
    "#Poor Fit:-\n",
    "x_poor= np.array([1,2,3,4,5]).reshape(-1,1)\n",
    "y_poor = np.array([20,16,23,32,23])\n",
    "model.fit(x_poor,y_poor)\n",
    "\n",
    "y_pre_poor=model.predict(x_poor)\n",
    "r2_poor = r2_score(y_poor,y_pre_perfect)\n",
    "print(\"😒 Poor Prediction value:\",(round(r2_poor,2)))\n",
    "\n"
   ]
  }
 ],
 "metadata": {
  "kernelspec": {
   "display_name": "Python 3",
   "language": "python",
   "name": "python3"
  },
  "language_info": {
   "codemirror_mode": {
    "name": "ipython",
    "version": 3
   },
   "file_extension": ".py",
   "mimetype": "text/x-python",
   "name": "python",
   "nbconvert_exporter": "python",
   "pygments_lexer": "ipython3",
   "version": "3.12.3"
  }
 },
 "nbformat": 4,
 "nbformat_minor": 5
}
