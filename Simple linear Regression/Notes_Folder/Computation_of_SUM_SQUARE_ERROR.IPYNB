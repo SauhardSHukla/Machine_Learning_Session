{
 "cells": [
  {
   "cell_type": "markdown",
   "metadata": {},
   "source": [
    "#####  >> The values on the graph shows the residuals for each predictions value. Use this information to compute the Sum of Squared Error."
   ]
  },
  {
   "cell_type": "markdown",
   "metadata": {},
   "source": [
    "##### >> Data Points: [-0.2,0.4,-0.8,1.3,-0.7]"
   ]
  },
  {
   "cell_type": "markdown",
   "metadata": {},
   "source": [
    "# Sum of Squared Error (SSE) Calculation\n",
    "\n",
    "The **Sum of Squared Error (SSE)** is calculated using the formula:\n",
    "\n",
    "**SSE = Σ (yi - ȳ)²**\n",
    "\n",
    "where:  \n",
    "- **yi** are the actual data points.  \n",
    "- **ȳ** is the mean of the data (used as the predicted value if not provided).  \n",
    "\n",
    "## Step 1: Given Data Points  \n",
    "The actual values provided:  \n",
    "\n",
    "**y = [-0.2, 0.4, -0.8, 1.3, -0.7]**  \n",
    "\n",
    "Since predictions are not provided, we assume the **mean** of the data as the predicted value.\n",
    "\n",
    "## Step 2: Compute the Mean (ȳ)  \n",
    "The mean of the given data is:\n",
    "\n",
    "**ȳ = ( -0.2 + 0.4 + (-0.8) + 1.3 + (-0.7) ) / 5**  \n",
    "**ȳ = 0 / 5 = 0**  \n",
    "\n",
    "So, the predicted value for each data point is **0**.\n",
    "\n",
    "## Step 3: Compute Squared Errors  \n",
    "For each **yi**:\n",
    "\n",
    "- (-0.2 - 0)² = **0.04**\n",
    "- (0.4 - 0)² = **0.16**\n",
    "- (-0.8 - 0)² = **0.64**\n",
    "- (1.3 - 0)² = **1.69**\n",
    "- (-0.7 - 0)² = **0.49**\n",
    "\n",
    "## Step 4: Compute SSE  \n",
    "Adding up the squared errors:\n",
    "\n",
    "**SSE = 0.04 + 0.16 + 0.64 + 1.69 + 0.49**  \n",
    "**SSE = 3.02**\n",
    "\n",
    "## Final Answer  \n",
    "**SSE = 3.02**\n"
   ]
  }
 ],
 "metadata": {
  "language_info": {
   "name": "python"
  }
 },
 "nbformat": 4,
 "nbformat_minor": 2
}
