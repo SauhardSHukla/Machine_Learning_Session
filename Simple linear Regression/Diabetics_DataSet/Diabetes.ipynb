{
 "cells": [
  {
   "cell_type": "code",
   "execution_count": 1,
   "metadata": {},
   "outputs": [],
   "source": [
    "import numpy as np\n",
    "from sklearn.linear_model import LinearRegression\n",
    "\n",
    "\n",
    "# Load training data\n",
    "data_train = np.genfromtxt('0000000000002329_training_diabetes_x_y_train.csv', delimiter=',')\n",
    "\n",
    "# Load test data\n",
    "data_test = np.genfromtxt('0000000000002329_test_diabetes_x_test.csv', delimiter=',')\n",
    "\n",
    "# Separate features (X) and target (Y) from training data\n",
    "X_train = data_train[:, :-1]  # First 10 columns\n",
    "Y_train = data_train[:, -1]   # Last column (target variable)\n",
    "\n",
    "# X_test is the test data (features only)\n",
    "X_test = data_test\n",
    "\n",
    "\n",
    "# Initialize and train the model\n",
    "model = LinearRegression()\n",
    "model.fit(X_train, Y_train)\n",
    "\n",
    "# Get predictions on test data\n",
    "Y_pred = model.predict(X_test)\n",
    "\n",
    "\n",
    "# Save the predictions with 5 decimal places\n",
    "np.savetxt(\"new_predictions.csv\", Y_pred, fmt=\"%.5f\")\n"
   ]
  }
 ],
 "metadata": {
  "kernelspec": {
   "display_name": "Python 3",
   "language": "python",
   "name": "python3"
  },
  "language_info": {
   "codemirror_mode": {
    "name": "ipython",
    "version": 3
   },
   "file_extension": ".py",
   "mimetype": "text/x-python",
   "name": "python",
   "nbconvert_exporter": "python",
   "pygments_lexer": "ipython3",
   "version": "3.12.3"
  }
 },
 "nbformat": 4,
 "nbformat_minor": 2
}
