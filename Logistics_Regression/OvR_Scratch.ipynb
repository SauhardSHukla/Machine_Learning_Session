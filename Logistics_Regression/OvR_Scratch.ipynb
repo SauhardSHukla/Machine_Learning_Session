{
 "cells": [
  {
   "cell_type": "markdown",
   "id": "3d195918",
   "metadata": {},
   "source": [
    "#### Creation of the One VS Rest method file for the Logistics Regression"
   ]
  },
  {
   "cell_type": "code",
   "execution_count": 39,
   "id": "496ef439",
   "metadata": {},
   "outputs": [],
   "source": [
    "import numpy as np"
   ]
  },
  {
   "cell_type": "code",
   "execution_count": 40,
   "id": "44178a86",
   "metadata": {},
   "outputs": [],
   "source": [
    "# Generate a toy dataset (binary classification)\n",
    "X = np.array([[0.2, 0.4],\n",
    "              [0.3, 0.7],\n",
    "              [0.6, 0.8],\n",
    "              [0.1, 0.2],\n",
    "              [0.5, 0.5],\n",
    "              [0.9, 0.9]])\n",
    "\n",
    "# Labels: 0 or 1\n",
    "y = np.array([0, 0, 1, 0, 1, 1])\n"
   ]
  },
  {
   "cell_type": "code",
   "execution_count": 41,
   "id": "eab23997",
   "metadata": {},
   "outputs": [],
   "source": [
    "def sigmoid(z):\n",
    "  return 1/(1+np.exp(-z))"
   ]
  },
  {
   "cell_type": "code",
   "execution_count": 42,
   "id": "faf348a6",
   "metadata": {},
   "outputs": [],
   "source": [
    "def predict(x,weight):\n",
    "  z=  np.dot(x,weight)\n",
    "  return sigmoid(z)"
   ]
  },
  {
   "cell_type": "code",
   "execution_count": 43,
   "id": "46e56c42",
   "metadata": {},
   "outputs": [],
   "source": [
    "def compute_cost(y_true,y_pred):\n",
    "  m = len(y_true)\n",
    "  cost =-(1/m) * np.sum(y_true * np.log(y_pred +1e-9) + (1-y_true) * np.log(1-y_pred+1e-9))\n",
    "  return cost"
   ]
  },
  {
   "cell_type": "code",
   "execution_count": 44,
   "id": "10f534fc",
   "metadata": {},
   "outputs": [],
   "source": [
    "def training (X,y,lr=0.1,iteration =1000):\n",
    "  lenght = len(y)\n",
    "  cost_list =[]\n",
    "\n",
    "  # Add bias to the code\n",
    "  x = np.c_[np.ones(X.shape[0]),X]\n",
    "\n",
    "  #Add weight to the code\n",
    "  weight = np.zeros(X.shape[1])\n",
    "\n",
    "  for i in range(iteration):\n",
    "    y_pred = predict(X,weight)\n",
    "    error  = y-y_pred\n",
    "\n",
    "    # Gradient\n",
    "    gradient = np.dot(X.T,error)/ lenght\n",
    "\n",
    "    #update Weight\n",
    "    weight = weight - lr * gradient\n",
    "\n",
    "    #Save cost\n",
    "    if i % 100 == 0:\n",
    "      cost = compute_cost(y,y_pred)\n",
    "      cost_list.append(cost)\n",
    "      print(f\"Iteration {i} :cost = {cost:.4f} \")\n",
    "\n",
    "  return weight,cost_list"
   ]
  },
  {
   "cell_type": "code",
   "execution_count": 45,
   "id": "05fa4131",
   "metadata": {},
   "outputs": [
    {
     "name": "stdout",
     "output_type": "stream",
     "text": [
      "Iteration 0 :cost = 0.6931 \n",
      "Iteration 100 :cost = 1.5553 \n",
      "Iteration 200 :cost = 3.7189 \n",
      "Iteration 300 :cost = 6.1176 \n",
      "Iteration 400 :cost = 8.3036 \n",
      "Iteration 500 :cost = 9.4863 \n",
      "Iteration 600 :cost = 10.0748 \n",
      "Iteration 700 :cost = 10.3401 \n",
      "Iteration 800 :cost = 10.3610 \n",
      "Iteration 900 :cost = 10.3616 \n"
     ]
    }
   ],
   "source": [
    "weight,cost_list  = training(X,y)"
   ]
  }
 ],
 "metadata": {
  "kernelspec": {
   "display_name": "Python 3",
   "language": "python",
   "name": "python3"
  },
  "language_info": {
   "codemirror_mode": {
    "name": "ipython",
    "version": 3
   },
   "file_extension": ".py",
   "mimetype": "text/x-python",
   "name": "python",
   "nbconvert_exporter": "python",
   "pygments_lexer": "ipython3",
   "version": "3.12.3"
  }
 },
 "nbformat": 4,
 "nbformat_minor": 5
}
